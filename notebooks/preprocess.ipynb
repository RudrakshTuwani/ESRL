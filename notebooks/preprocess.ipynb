{
 "cells": [
  {
   "cell_type": "code",
   "execution_count": 1,
   "metadata": {},
   "outputs": [],
   "source": [
    "import itertools\n",
    "\n",
    "import pandas as pd\n",
    "import numpy as np\n",
    "\n",
    "from sklearn.model_selection import train_test_split\n",
    "from sklearn.preprocessing import StandardScaler\n",
    "from sklearn.cluster import KMeans\n",
    "\n",
    "from paths import *\n",
    "from constants import EPISODE_LEN, RANDOM_SEED, N_CLUSTERS\n",
    "\n",
    "%matplotlib inline"
   ]
  },
  {
   "cell_type": "markdown",
   "metadata": {},
   "source": [
    "### Sepsis"
   ]
  },
  {
   "cell_type": "markdown",
   "metadata": {},
   "source": [
    "#### Load data"
   ]
  },
  {
   "cell_type": "code",
   "execution_count": 2,
   "metadata": {},
   "outputs": [
    {
     "name": "stdout",
     "output_type": "stream",
     "text": [
      "(252204, 59)\n"
     ]
    },
    {
     "data": {
      "text/html": [
       "<div>\n",
       "<style scoped>\n",
       "    .dataframe tbody tr th:only-of-type {\n",
       "        vertical-align: middle;\n",
       "    }\n",
       "\n",
       "    .dataframe tbody tr th {\n",
       "        vertical-align: top;\n",
       "    }\n",
       "\n",
       "    .dataframe thead th {\n",
       "        text-align: right;\n",
       "    }\n",
       "</style>\n",
       "<table border=\"1\" class=\"dataframe\">\n",
       "  <thead>\n",
       "    <tr style=\"text-align: right;\">\n",
       "      <th></th>\n",
       "      <th>bloc</th>\n",
       "      <th>icustayid</th>\n",
       "      <th>charttime</th>\n",
       "      <th>gender</th>\n",
       "      <th>age</th>\n",
       "      <th>elixhauser</th>\n",
       "      <th>re_admission</th>\n",
       "      <th>SOFA</th>\n",
       "      <th>SIRS</th>\n",
       "      <th>Weight_kg</th>\n",
       "      <th>...</th>\n",
       "      <th>input_total_tev</th>\n",
       "      <th>input_4hourly_tev</th>\n",
       "      <th>output_total</th>\n",
       "      <th>output_4hourly</th>\n",
       "      <th>cumulated_balance_tev</th>\n",
       "      <th>sedation</th>\n",
       "      <th>mechvent</th>\n",
       "      <th>rrt</th>\n",
       "      <th>died_in_hosp</th>\n",
       "      <th>mortality_90d</th>\n",
       "    </tr>\n",
       "  </thead>\n",
       "  <tbody>\n",
       "    <tr>\n",
       "      <th>0</th>\n",
       "      <td>1</td>\n",
       "      <td>3</td>\n",
       "      <td>7245052800</td>\n",
       "      <td>0</td>\n",
       "      <td>17639.826435</td>\n",
       "      <td>0.0</td>\n",
       "      <td>0</td>\n",
       "      <td>9</td>\n",
       "      <td>4</td>\n",
       "      <td>77.5</td>\n",
       "      <td>...</td>\n",
       "      <td>3500.0</td>\n",
       "      <td>2100.0</td>\n",
       "      <td>230.0</td>\n",
       "      <td>230.0</td>\n",
       "      <td>3270.0</td>\n",
       "      <td>0</td>\n",
       "      <td>0</td>\n",
       "      <td>0</td>\n",
       "      <td>0</td>\n",
       "      <td>1</td>\n",
       "    </tr>\n",
       "    <tr>\n",
       "      <th>1</th>\n",
       "      <td>2</td>\n",
       "      <td>3</td>\n",
       "      <td>7245067200</td>\n",
       "      <td>0</td>\n",
       "      <td>17639.826435</td>\n",
       "      <td>0.0</td>\n",
       "      <td>0</td>\n",
       "      <td>8</td>\n",
       "      <td>3</td>\n",
       "      <td>77.5</td>\n",
       "      <td>...</td>\n",
       "      <td>5499.0</td>\n",
       "      <td>1999.0</td>\n",
       "      <td>697.0</td>\n",
       "      <td>467.0</td>\n",
       "      <td>4802.0</td>\n",
       "      <td>0</td>\n",
       "      <td>0</td>\n",
       "      <td>0</td>\n",
       "      <td>0</td>\n",
       "      <td>1</td>\n",
       "    </tr>\n",
       "    <tr>\n",
       "      <th>2</th>\n",
       "      <td>3</td>\n",
       "      <td>3</td>\n",
       "      <td>7245081600</td>\n",
       "      <td>0</td>\n",
       "      <td>17639.826435</td>\n",
       "      <td>0.0</td>\n",
       "      <td>0</td>\n",
       "      <td>7</td>\n",
       "      <td>3</td>\n",
       "      <td>77.5</td>\n",
       "      <td>...</td>\n",
       "      <td>5604.0</td>\n",
       "      <td>105.0</td>\n",
       "      <td>2302.0</td>\n",
       "      <td>1605.0</td>\n",
       "      <td>3302.0</td>\n",
       "      <td>0</td>\n",
       "      <td>0</td>\n",
       "      <td>0</td>\n",
       "      <td>0</td>\n",
       "      <td>1</td>\n",
       "    </tr>\n",
       "    <tr>\n",
       "      <th>3</th>\n",
       "      <td>4</td>\n",
       "      <td>3</td>\n",
       "      <td>7245096000</td>\n",
       "      <td>0</td>\n",
       "      <td>17639.826435</td>\n",
       "      <td>0.0</td>\n",
       "      <td>0</td>\n",
       "      <td>6</td>\n",
       "      <td>3</td>\n",
       "      <td>77.5</td>\n",
       "      <td>...</td>\n",
       "      <td>5664.0</td>\n",
       "      <td>60.0</td>\n",
       "      <td>2922.0</td>\n",
       "      <td>620.0</td>\n",
       "      <td>2742.0</td>\n",
       "      <td>0</td>\n",
       "      <td>0</td>\n",
       "      <td>0</td>\n",
       "      <td>0</td>\n",
       "      <td>1</td>\n",
       "    </tr>\n",
       "    <tr>\n",
       "      <th>4</th>\n",
       "      <td>5</td>\n",
       "      <td>3</td>\n",
       "      <td>7245110400</td>\n",
       "      <td>0</td>\n",
       "      <td>17639.826435</td>\n",
       "      <td>0.0</td>\n",
       "      <td>0</td>\n",
       "      <td>5</td>\n",
       "      <td>3</td>\n",
       "      <td>77.5</td>\n",
       "      <td>...</td>\n",
       "      <td>5724.0</td>\n",
       "      <td>60.0</td>\n",
       "      <td>3352.0</td>\n",
       "      <td>430.0</td>\n",
       "      <td>2372.0</td>\n",
       "      <td>0</td>\n",
       "      <td>0</td>\n",
       "      <td>0</td>\n",
       "      <td>0</td>\n",
       "      <td>1</td>\n",
       "    </tr>\n",
       "  </tbody>\n",
       "</table>\n",
       "<p>5 rows × 59 columns</p>\n",
       "</div>"
      ],
      "text/plain": [
       "   bloc  icustayid   charttime  gender           age  elixhauser  \\\n",
       "0     1          3  7245052800       0  17639.826435         0.0   \n",
       "1     2          3  7245067200       0  17639.826435         0.0   \n",
       "2     3          3  7245081600       0  17639.826435         0.0   \n",
       "3     4          3  7245096000       0  17639.826435         0.0   \n",
       "4     5          3  7245110400       0  17639.826435         0.0   \n",
       "\n",
       "   re_admission  SOFA  SIRS  Weight_kg  ...  input_total_tev  \\\n",
       "0             0     9     4       77.5  ...           3500.0   \n",
       "1             0     8     3       77.5  ...           5499.0   \n",
       "2             0     7     3       77.5  ...           5604.0   \n",
       "3             0     6     3       77.5  ...           5664.0   \n",
       "4             0     5     3       77.5  ...           5724.0   \n",
       "\n",
       "   input_4hourly_tev  output_total  output_4hourly  cumulated_balance_tev  \\\n",
       "0             2100.0         230.0           230.0                 3270.0   \n",
       "1             1999.0         697.0           467.0                 4802.0   \n",
       "2              105.0        2302.0          1605.0                 3302.0   \n",
       "3               60.0        2922.0           620.0                 2742.0   \n",
       "4               60.0        3352.0           430.0                 2372.0   \n",
       "\n",
       "   sedation  mechvent  rrt  died_in_hosp  mortality_90d  \n",
       "0         0         0    0             0              1  \n",
       "1         0         0    0             0              1  \n",
       "2         0         0    0             0              1  \n",
       "3         0         0    0             0              1  \n",
       "4         0         0    0             0              1  \n",
       "\n",
       "[5 rows x 59 columns]"
      ]
     },
     "execution_count": 2,
     "metadata": {},
     "output_type": "execute_result"
    }
   ],
   "source": [
    "# Sepsis data\n",
    "sepsis = pd.read_csv(DATA/'raw/Sepsis/Sepsis_imp.csv')\n",
    "print(sepsis.shape)\n",
    "sepsis.head()"
   ]
  },
  {
   "cell_type": "markdown",
   "metadata": {},
   "source": [
    "#### Preprocessing"
   ]
  },
  {
   "cell_type": "markdown",
   "metadata": {},
   "source": [
    "##### Filter based on EPISODE LEN"
   ]
  },
  {
   "cell_type": "code",
   "execution_count": 3,
   "metadata": {},
   "outputs": [],
   "source": [
    "sepsis.set_index('icustayid', inplace=True)\n",
    "\n",
    "# Remove patients with episode length < EPISODE_LEN\n",
    "episode_len = sepsis\\\n",
    "    .groupby(sepsis.index)\\\n",
    "    .agg({'bloc': lambda s: s.max()})\n",
    "\n",
    "sepsis = sepsis.loc[\n",
    "    episode_len[episode_len >= EPISODE_LEN].dropna().index.tolist()\n",
    "]\n",
    "\n",
    "# Clip episodes to EPISODE_LEN\n",
    "sepsis = sepsis.loc[sepsis ['bloc'] <= EPISODE_LEN]\n",
    "\n",
    "# Keep only those patients which have data for all timesteps till EPISODE_LEN\n",
    "all_ts_patients = sepsis.groupby(sepsis.index).agg({'bloc': lambda lst: len(set(lst))}) == EPISODE_LEN\n",
    "sepsis = sepsis.loc[all_ts_patients[all_ts_patients.bloc].index.tolist()]"
   ]
  },
  {
   "cell_type": "markdown",
   "metadata": {},
   "source": [
    "#####  Discretize actions"
   ]
  },
  {
   "cell_type": "code",
   "execution_count": 4,
   "metadata": {},
   "outputs": [],
   "source": [
    "# Get quartiles of action variables\n",
    "vaso_quartiles = list(\n",
    "    sepsis.loc[sepsis['max_dose_vaso'] > 0, 'max_dose_vaso'].quantile([0.25,0.50,0.75])\n",
    ")\n",
    "\n",
    "iv_quartiles = list(\n",
    "    sepsis.loc[sepsis['input_4hourly_tev'] > 0, 'input_4hourly_tev'].quantile([0.25,0.50,0.75])\n",
    ")\n",
    "vaso_quartiles = [0] + vaso_quartiles\n",
    "iv_quartiles = [0] + iv_quartiles\n",
    "\n",
    "# Discretize action variables by mapping to the quartile they lie in\n",
    "sepsis['iv_level'] = 0\n",
    "sepsis['vaso_level'] = 0\n",
    "\n",
    "for qrt in vaso_quartiles:\n",
    "    sepsis['iv_level'] += (sepsis['max_dose_vaso'] <= qrt).values\n",
    "    \n",
    "for qrt in iv_quartiles:\n",
    "    sepsis['vaso_level'] += (sepsis['input_4hourly_tev'] <= qrt).values\n",
    "    \n",
    "# Combine and map to a single identifier\n",
    "action_to_id = {(j,k): i for i, (j,k) in enumerate(itertools.product(list(range(5)), list(range(5))))}\n",
    "sepsis['action'] = sepsis.apply(lambda row: action_to_id[row['iv_level'], row['vaso_level']], axis=1)"
   ]
  },
  {
   "cell_type": "code",
   "execution_count": 5,
   "metadata": {},
   "outputs": [
    {
     "data": {
      "text/plain": [
       "4    95153\n",
       "1     6261\n",
       "2     6001\n",
       "3     5917\n",
       "0     5478\n",
       "Name: iv_level, dtype: int64"
      ]
     },
     "execution_count": 5,
     "metadata": {},
     "output_type": "execute_result"
    },
    {
     "data": {
      "image/png": "[encoded data removed]",
      "text/plain": [
       "<Figure size 432x288 with 1 Axes>"
      ]
     },
     "metadata": {
      "needs_background": "light"
     },
     "output_type": "display_data"
    }
   ],
   "source": [
    "sepsis['iv_level'].astype(int).plot.hist()\n",
    "sepsis['iv_level'].value_counts()"
   ]
  },
  {
   "cell_type": "code",
   "execution_count": 6,
   "metadata": {},
   "outputs": [
    {
     "data": {
      "text/plain": [
       "4    24076\n",
       "1    23885\n",
       "2    23720\n",
       "3    23711\n",
       "0    23418\n",
       "Name: vaso_level, dtype: int64"
      ]
     },
     "execution_count": 6,
     "metadata": {},
     "output_type": "execute_result"
    },
    {
     "data": {
      "image/png": "[encoded data removed]",
      "text/plain": [
       "<Figure size 432x288 with 1 Axes>"
      ]
     },
     "metadata": {
      "needs_background": "light"
     },
     "output_type": "display_data"
    }
   ],
   "source": [
    "sepsis['vaso_level'].plot.hist()\n",
    "sepsis['vaso_level'].value_counts()"
   ]
  },
  {
   "cell_type": "markdown",
   "metadata": {},
   "source": [
    "#### Train-test split"
   ]
  },
  {
   "cell_type": "code",
   "execution_count": 7,
   "metadata": {},
   "outputs": [],
   "source": [
    "train_ids, test_ids = train_test_split(sepsis.index.unique().tolist(), test_size=0.2, random_state=RANDOM_SEED)\n",
    "sepsis_train = sepsis.loc[train_ids].reset_index()\n",
    "sepsis_test = sepsis.loc[test_ids].reset_index()"
   ]
  },
  {
   "cell_type": "markdown",
   "metadata": {},
   "source": [
    "#### Discretize state space"
   ]
  },
  {
   "cell_type": "code",
   "execution_count": 8,
   "metadata": {},
   "outputs": [
    {
     "name": "stdout",
     "output_type": "stream",
     "text": [
      "Total number of features used for clustering:  46\n"
     ]
    }
   ],
   "source": [
    "# Feature names\n",
    "cluster_fnames = (DATA/'raw/Sepsis/features.txt').open('r').read().split('\\n')[:-1]\n",
    "cluster_fnames.remove('SOFA')\n",
    "cluster_fnames.remove('bloc')\n",
    "print(\"Total number of features used for clustering: \", len(cluster_fnames))"
   ]
  },
  {
   "cell_type": "code",
   "execution_count": 9,
   "metadata": {
    "scrolled": true
   },
   "outputs": [
    {
     "name": "stderr",
     "output_type": "stream",
     "text": [
      "C:\\ProgramData\\Anaconda3\\envs\\espsrl\\lib\\site-packages\\sklearn\\cluster\\_kmeans.py:939: FutureWarning: 'n_jobs' was deprecated in version 0.23 and will be removed in 0.25.\n",
      "  \" removed in 0.25.\", FutureWarning)\n"
     ]
    },
    {
     "data": {
      "text/plain": [
       "KMeans(n_clusters=100, n_init=5, n_jobs=-1, random_state=116687)"
      ]
     },
     "execution_count": 9,
     "metadata": {},
     "output_type": "execute_result"
    }
   ],
   "source": [
    "# Clustering\n",
    "# Standardize\n",
    "ss = StandardScaler()\n",
    "ss.fit(sepsis_train[cluster_fnames])\n",
    "\n",
    "kmeans = KMeans(n_clusters=N_CLUSTERS, random_state=RANDOM_SEED, verbose=0, n_init=5, n_jobs=-1)\n",
    "kmeans.fit(ss.transform(sepsis_train[cluster_fnames]))"
   ]
  },
  {
   "cell_type": "code",
   "execution_count": 10,
   "metadata": {},
   "outputs": [],
   "source": [
    "sepsis_train['state'] = kmeans.labels_\n",
    "sepsis_test['state']  = kmeans.predict(ss.transform(sepsis_test[cluster_fnames]))"
   ]
  },
  {
   "cell_type": "markdown",
   "metadata": {},
   "source": [
    "#### Write to disk"
   ]
  },
  {
   "cell_type": "code",
   "execution_count": 11,
   "metadata": {},
   "outputs": [],
   "source": [
    "sepsis_train.rename({'SOFA': 'reward'}, axis=1, inplace=True)\n",
    "sepsis_test.rename({'SOFA': 'reward'}, axis=1, inplace=True)"
   ]
  },
  {
   "cell_type": "code",
   "execution_count": 12,
   "metadata": {},
   "outputs": [],
   "source": [
    "rel_fnames = ['bloc', 'icustayid', 'state', 'reward', 'action', 'died_in_hosp']\n",
    "sepsis_train[rel_fnames].to_csv(DATA/'processed/sepsis/train.tsv', sep='\\t', index=None)\n",
    "sepsis_test[rel_fnames].to_csv(DATA/'processed/sepsis/test.tsv', sep='\\t', index=None)"
   ]
  },
  {
   "cell_type": "code",
   "execution_count": 13,
   "metadata": {},
   "outputs": [],
   "source": [
    "sepsis_train[['state'] + cluster_fnames].to_csv(DATA/'processed/sepsis/clustering_features.tsv', sep='\\t', index=None)"
   ]
  }
 ],
 "metadata": {
  "kernelspec": {
   "display_name": "Python [conda env:espsrl]",
   "language": "python",
   "name": "conda-env-espsrl-py"
  },
  "language_info": {
   "codemirror_mode": {
    "name": "ipython",
    "version": 3
   },
   "file_extension": ".py",
   "mimetype": "text/x-python",
   "name": "python",
   "nbconvert_exporter": "python",
   "pygments_lexer": "ipython3",
   "version": "3.7.0"
  },
  "toc": {
   "base_numbering": 1,
   "nav_menu": {},
   "number_sections": false,
   "sideBar": true,
   "skip_h1_title": false,
   "title_cell": "Table of Contents",
   "title_sidebar": "Contents",
   "toc_cell": false,
   "toc_position": {
    "height": "calc(100% - 180px)",
    "left": "10px",
    "top": "150px",
    "width": "320px"
   },
   "toc_section_display": true,
   "toc_window_display": false
  }
 },
 "nbformat": 4,
 "nbformat_minor": 4
}
