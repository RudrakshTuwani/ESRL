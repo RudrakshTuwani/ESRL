{
 "cells": [
  {
   "cell_type": "code",
   "execution_count": 1,
   "metadata": {},
   "outputs": [],
   "source": [
    "import sys\n",
    "sys.path.append('..')\n",
    "\n",
    "from pathlib import Path\n",
    "import pickle\n",
    "import scipy.stats as stats\n",
    "from tqdm import tqdm\n",
    "\n",
    "import numpy as np\n",
    "import pandas as pd\n",
    "\n",
    "import matplotlib.pyplot as plt\n",
    "import seaborn as sns\n",
    "\n",
    "import itertools\n",
    "from collections import defaultdict\n",
    "\n",
    "from paths import *\n",
    "from constants import EPISODE_LEN, RANDOM_SEED, ALPHAS\n",
    "\n",
    "from src.esrl.esrl import compute_SOMVPRSL, sample_Vs\n",
    "\n",
    "%matplotlib inline"
   ]
  },
  {
   "cell_type": "code",
   "execution_count": 2,
   "metadata": {},
   "outputs": [
    {
     "name": "stdout",
     "output_type": "stream",
     "text": [
      "(95040, 5) (23770, 5)\n"
     ]
    }
   ],
   "source": [
    "# Read data\n",
    "data = {\n",
    "    'train': pd.read_csv(SEPSIS/'train.tsv', sep='\\t'),\n",
    "    'test': pd.read_csv(SEPSIS/'test.tsv', sep='\\t')\n",
    "}\n",
    "\n",
    "# Preprocessing\n",
    "max_reward = max(data['train']['reward'].max(), data['test']['reward'].max())\n",
    "for df in data.values():\n",
    "    \n",
    "    # Get reward in the range of 0 to 1\n",
    "    df['reward'] = (max_reward-df['reward'])/max_reward\n",
    "    \n",
    "    # Find the next state\n",
    "    df.sort_values(['icustayid', 'bloc'], ascending=True)\n",
    "    df['next_state'] = df['state'].shift(-1)\n",
    "    df.loc[df['bloc'] == EPISODE_LEN, 'next_state'] = -1\n",
    "    df['next_state'] = df['next_state'].astype(int)\n",
    "    \n",
    "    df.rename({'bloc': 'timestep'}, axis=1, inplace=True)\n",
    "    df.drop(['icustayid', 'died_in_hosp'], inplace=True, axis=1)\n",
    "\n",
    "# Define actions and states\n",
    "ACTIONS = list(range(0, 25, 1))\n",
    "STATES = list(range(0, 100, 1))\n",
    "TIMESTEPS = list(range(1, 11, 1))\n",
    "\n",
    "assert len(set(ACTIONS) - (set(data['train'].action) | set(data['test'].action))) == 0,\\\n",
    "    \"Found unseen action in train/test set.\"\n",
    "assert len(set(STATES) - (set(data['train'].state) | set(data['test'].state))) == 0,\\\n",
    "    \"Found unseen state in train/test set.\"\n",
    "assert len(set(TIMESTEPS) - (set(data['train'].timestep) | set(data['test'].timestep))) == 0,\\\n",
    "    \"Found unseen timestep in train/test set.\"\n",
    "\n",
    "print(data['train'].shape, data['test'].shape)"
   ]
  },
  {
   "cell_type": "code",
   "execution_count": 3,
   "metadata": {},
   "outputs": [],
   "source": [
    "# ESPRL params\n",
    "\n",
    "# Prior probs for sampling MDPs\n",
    "PRIORS = {'m0':0,'lamb0':1e+3,'alpha0':5.01,'gamma0':1}\n",
    "\n",
    "# Number of samples to draw\n",
    "N_SAMPLES = 500"
   ]
  },
  {
   "cell_type": "code",
   "execution_count": 4,
   "metadata": {},
   "outputs": [
    {
     "name": "stderr",
     "output_type": "stream",
     "text": [
      "100%|████████████████████████████████████████████████████████████████████████████████| 3/3 [2:02:40<00:00, 2453.44s/it]\n"
     ]
    }
   ],
   "source": [
    "for alpha in tqdm(ALPHAS):\n",
    "    # Train policy\n",
    "    mv_smu = compute_SOMVPRSL(data['train'], A_space=ACTIONS, S_space=STATES, tau=max(TIMESTEPS),\n",
    "                              priors=PRIORS, K=N_SAMPLES, alpha=alpha)\n",
    "    pickle.dump(mv_smu, (SEPSIS/f'esprl-results/mv_smu_{alpha}'.replace('.', '_')).open('wb'))\n",
    "    \n",
    "    # Evaluate on datasets\n",
    "    for df_name, df in data.items():\n",
    "    \n",
    "        v_sam, st_state_sam = sample_Vs(df, A_space=ACTIONS, S_space=STATES, tau=max(TIMESTEPS),\n",
    "                                        priors=PRIORS, n_samples=N_SAMPLES*4, mu_st=mv_smu,\n",
    "                                        random_starting_state=True, seed=RANDOM_SEED)\n",
    "        value_estimate = pd.DataFrame(st_state_sam.astype(int), columns=['state'])\n",
    "        value_estimate[f'alpha_{alpha}'] = v_sam\n",
    "        value_estimate.to_csv(SEPSIS/f'esprl-results/{df_name}_value_estimate_{alpha}.tsv'.replace('.', '_'),\n",
    "                               sep='\\t', index=None)"
   ]
  }
 ],
 "metadata": {
  "kernelspec": {
   "display_name": "Python [conda env:espsrl]",
   "language": "python",
   "name": "conda-env-espsrl-py"
  },
  "language_info": {
   "codemirror_mode": {
    "name": "ipython",
    "version": 3
   },
   "file_extension": ".py",
   "mimetype": "text/x-python",
   "name": "python",
   "nbconvert_exporter": "python",
   "pygments_lexer": "ipython3",
   "version": "3.7.0"
  },
  "toc": {
   "base_numbering": 1,
   "nav_menu": {},
   "number_sections": true,
   "sideBar": true,
   "skip_h1_title": false,
   "title_cell": "Table of Contents",
   "title_sidebar": "Contents",
   "toc_cell": false,
   "toc_position": {},
   "toc_section_display": true,
   "toc_window_display": false
  }
 },
 "nbformat": 4,
 "nbformat_minor": 4
}
